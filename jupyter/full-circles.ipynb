{
 "cells": [
  {
   "cell_type": "code",
   "execution_count": 1,
   "metadata": {},
   "outputs": [],
   "source": [
    "import numpy as np\n",
    "import matplotlib.pyplot as plt\n",
    "import matplotlib as mpl\n",
    "\n",
    "plt.rcParams['agg.path.chunksize'] = 10000\n",
    "\n",
    "%matplotlib inline"
   ]
  },
  {
   "cell_type": "code",
   "execution_count": 1,
   "metadata": {},
   "outputs": [
    {
     "ename": "NameError",
     "evalue": "name 'np' is not defined",
     "output_type": "error",
     "traceback": [
      "\u001b[0;31m---------------------------------------------------------------------------\u001b[0m",
      "\u001b[0;31mNameError\u001b[0m                                 Traceback (most recent call last)",
      "\u001b[0;32m<ipython-input-1-f7e766013b01>\u001b[0m in \u001b[0;36m<module>\u001b[0;34m\u001b[0m\n\u001b[1;32m      6\u001b[0m \u001b[0mheight\u001b[0m \u001b[0;34m=\u001b[0m \u001b[0;36m1080\u001b[0m\u001b[0;34m\u001b[0m\u001b[0;34m\u001b[0m\u001b[0m\n\u001b[1;32m      7\u001b[0m \u001b[0;34m\u001b[0m\u001b[0m\n\u001b[0;32m----> 8\u001b[0;31m \u001b[0mbox\u001b[0m \u001b[0;34m=\u001b[0m \u001b[0mnp\u001b[0m\u001b[0;34m.\u001b[0m\u001b[0marray\u001b[0m\u001b[0;34m(\u001b[0m\u001b[0;34m[\u001b[0m\u001b[0mwidth\u001b[0m\u001b[0;34m,\u001b[0m\u001b[0mheight\u001b[0m\u001b[0;34m]\u001b[0m\u001b[0;34m)\u001b[0m\u001b[0;34m\u001b[0m\u001b[0;34m\u001b[0m\u001b[0m\n\u001b[0m\u001b[1;32m      9\u001b[0m \u001b[0;34m\u001b[0m\u001b[0m\n\u001b[1;32m     10\u001b[0m \u001b[0;34m\u001b[0m\u001b[0m\n",
      "\u001b[0;31mNameError\u001b[0m: name 'np' is not defined"
     ]
    }
   ],
   "source": [
    "# Really brute forced\n",
    "\n",
    "n_circles = 500\n",
    "\n",
    "width = 720\n",
    "height = 1080\n",
    "\n",
    "box = np.array([width,height])\n",
    "\n",
    "\n",
    "centers = [box*np.random.random_sample(2)]\n",
    "radii = [min(list(centers[0])+list(box-centers[0]))*np.random.random_sample()]\n",
    "\n",
    "fig = plt.figure(figsize=(7.20,10.80))\n",
    "fig.patch.set_alpha(1)\n",
    "ax = plt.gca()\n",
    "ax.set_xlim(-0.1,width+0.1)\n",
    "ax.set_ylim(-0.1,height+0.1)\n",
    "ax.set_xticks([], [])\n",
    "ax.set_yticks([], [])\n",
    "#ax.axis('off')\n",
    "\n",
    "circ = mpl.patches.Circle(centers[0], radii[0],ec='k')\n",
    "ax.add_patch(circ)\n",
    "fig.tight_layout()\n",
    "fig.savefig('animation/circles-%04d.png'%0,dpi=100)\n",
    "\n",
    "for count in range(n_circles-1):\n",
    "    \n",
    "    print('Frame',count+2,'of',n_circles,end='\\r')\n",
    "    \n",
    "    #generate point\n",
    "    point_allowed = False\n",
    "    \n",
    "    while not point_allowed:\n",
    "    \n",
    "        new_point = np.array([width,height])*np.random.random_sample(2)\n",
    "    \n",
    "        point_allowed = True\n",
    "        \n",
    "        separations = []\n",
    "        \n",
    "        for center, radius in zip(centers,radii):\n",
    "        \n",
    "            separation = new_point - center\n",
    "        \n",
    "            if np.dot(separation,separation) < radius*radius:\n",
    "                \n",
    "                point_allowed = False\n",
    "                break\n",
    "                \n",
    "            if point_allowed:\n",
    "                separations.append(np.linalg.norm(separation)-radius)\n",
    "        \n",
    "    new_radius = min(list(new_point)+list(box-new_point)+list(separations))\n",
    "        \n",
    "\n",
    "    centers.append(new_point)\n",
    "    radii.append(new_radius)\n",
    "    \n",
    "    circ = mpl.patches.Circle(new_point, new_radius,fc='k')\n",
    "    ax.add_patch(circ)\n",
    "    fig.tight_layout()\n",
    "    fig.savefig('animation/circles-%04d.png'%(count+1),dpi=100)\n",
    "    \n",
    "plt.show()"
   ]
  },
  {
   "cell_type": "code",
   "execution_count": null,
   "metadata": {},
   "outputs": [],
   "source": []
  }
 ],
 "metadata": {
  "kernelspec": {
   "display_name": "Python 3",
   "language": "python",
   "name": "python3"
  },
  "language_info": {
   "codemirror_mode": {
    "name": "ipython",
    "version": 3
   },
   "file_extension": ".py",
   "mimetype": "text/x-python",
   "name": "python",
   "nbconvert_exporter": "python",
   "pygments_lexer": "ipython3",
   "version": "3.8.5"
  }
 },
 "nbformat": 4,
 "nbformat_minor": 4
}
